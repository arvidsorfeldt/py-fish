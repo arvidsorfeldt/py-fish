{
 "cells": [
  {
   "cell_type": "code",
   "execution_count": 44,
   "metadata": {},
   "outputs": [],
   "source": [
    "import pandas as pd\n",
    "import numpy as np\n",
    "import matplotlib.pyplot as plt\n",
    "\n",
    "plt.rcParams.update({\"text.usetex\": True, \"font.family\": \"serif\", \"font.size\": 12})\n",
    "\n",
    "df = pd.read_csv(\"vesselRegistryListResults.csv\", delimiter=\";\")"
   ]
  },
  {
   "cell_type": "code",
   "execution_count": 45,
   "metadata": {},
   "outputs": [
    {
     "name": "stdout",
     "output_type": "stream",
     "text": [
      "Number of vessels fishing with pots: 687\n",
      "Number of vessels fishing with pots: 687\n"
     ]
    },
    {
     "name": "stderr",
     "output_type": "stream",
     "text": [
      "Failed to find a Ghostscript installation.  Distillation step skipped.\n"
     ]
    },
    {
     "data": {
      "image/png": "[encoded data removed]",
      "text/plain": [
       "<Figure size 590.666x300 with 2 Axes>"
      ]
     },
     "metadata": {},
     "output_type": "display_data"
    }
   ],
   "source": [
    "lengths_using_pots = df[\n",
    "    np.logical_or(df[\"Main fishing gear\"] == \"FPO\", df[\"Main fishing gear\"] == \"GNS\")\n",
    "][\"LOA\"]\n",
    "print(f\"Number of vessels fishing with pots: {len(lengths_using_pots)}\")\n",
    "\n",
    "fig, (ax, ax2) = plt.subplots(figsize=(5.90666, 3), ncols=2)\n",
    "ax.hist(lengths_using_pots, linewidth=0.5, edgecolor=\"black\", bins=np.arange(4, 15))\n",
    "ax.set_xlabel(\"Length [m]\")\n",
    "ax.set_ylabel(\"Number of vessels\")\n",
    "lengths_using_pots = df[\n",
    "    np.logical_or(df[\"Main fishing gear\"] == \"FPO\", df[\"Main fishing gear\"] == \"GNS\")\n",
    "][\"Power of main engine\"]\n",
    "print(f\"Number of vessels fishing with pots: {len(lengths_using_pots)}\")\n",
    "\n",
    "ax2.hist(\n",
    "    lengths_using_pots, linewidth=0.5, edgecolor=\"black\", bins=np.arange(0, 400, 50)\n",
    ")\n",
    "ax2.set_xlabel(\"Engine power [kW]\")\n",
    "# ax2.set_ylabel(\"Number of vessels\")\n",
    "fig.tight_layout()\n",
    "fig.savefig(\"figures/swedish_passive_fleet.eps\", format=\"eps\")"
   ]
  },
  {
   "cell_type": "code",
   "execution_count": 46,
   "metadata": {},
   "outputs": [
    {
     "name": "stdout",
     "output_type": "stream",
     "text": [
      "Number of vessels fishing with anchored gillnets: 254\n"
     ]
    }
   ],
   "source": [
    "lengths_using_pots = df[df[\"Main fishing gear\"] == \"GNS\"][\"LOA\"]\n",
    "print(f\"Number of vessels fishing with anchored gillnets: {len(lengths_using_pots)}\")"
   ]
  }
 ],
 "metadata": {
  "kernelspec": {
   "display_name": "venv",
   "language": "python",
   "name": "python3"
  },
  "language_info": {
   "codemirror_mode": {
    "name": "ipython",
    "version": 3
   },
   "file_extension": ".py",
   "mimetype": "text/x-python",
   "name": "python",
   "nbconvert_exporter": "python",
   "pygments_lexer": "ipython3",
   "version": "3.12.2"
  }
 },
 "nbformat": 4,
 "nbformat_minor": 2
}
