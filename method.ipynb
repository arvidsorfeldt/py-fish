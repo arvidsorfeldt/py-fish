{
 "cells": [
  {
   "cell_type": "markdown",
   "metadata": {},
   "source": [
    "# A method for determining electrification of small fishing vessels"
   ]
  },
  {
   "cell_type": "markdown",
   "metadata": {},
   "source": [
    "### Definition of input parameters"
   ]
  },
  {
   "cell_type": "markdown",
   "metadata": {},
   "source": [
    "#### Ship parameters"
   ]
  },
  {
   "cell_type": "code",
   "execution_count": 87,
   "metadata": {
    "tags": [
     "parameters"
    ]
   },
   "outputs": [],
   "source": [
    "LENGTH = 11.91  # meters [m]\n",
    "BEAM = 4.0  # meters [m]"
   ]
  },
  {
   "cell_type": "markdown",
   "metadata": {},
   "source": [
    "#### Operational parameters"
   ]
  },
  {
   "cell_type": "code",
   "execution_count": 88,
   "metadata": {
    "tags": [
     "parameters"
    ]
   },
   "outputs": [],
   "source": [
    "DISTANCE_TRANSIT_OUT = 8.35  # nautical mile [nm]\n",
    "DISTANCE_FISHING = 17.5  # nautical mile [nm]\n",
    "DISTANCE_TRANSIT_IN = 8.35  # nautical mile [nm]\n",
    "\n",
    "TRANSIT_SPEED = 7.0  # knots [kn]\n",
    "\n",
    "OPERATIONAL_PROFILE = \"pots\"\n",
    "NUMBER_OF_POTS = 10"
   ]
  },
  {
   "cell_type": "markdown",
   "metadata": {},
   "source": [
    "## The method - DO NOT EDIT"
   ]
  },
  {
   "cell_type": "markdown",
   "metadata": {},
   "source": [
    "### Creation of speed profile"
   ]
  },
  {
   "cell_type": "code",
   "execution_count": 89,
   "metadata": {},
   "outputs": [
    {
     "data": {
      "image/png": "[encoded data removed]",
      "text/plain": [
       "<Figure size 640x480 with 1 Axes>"
      ]
     },
     "metadata": {},
     "output_type": "display_data"
    }
   ],
   "source": [
    "from py_fish.operation import custom_speed_profile, distance_from_profile\n",
    "from py_fish.plotting import plot_speed_profile\n",
    "import matplotlib.pyplot as plt\n",
    "\n",
    "speed_profile = custom_speed_profile(\n",
    "    distance_out=DISTANCE_TRANSIT_OUT,\n",
    "    distance_fishing=DISTANCE_FISHING,\n",
    "    distance_in=DISTANCE_TRANSIT_IN,\n",
    "    speed_out=TRANSIT_SPEED,\n",
    "    speed_fishing=TRANSIT_SPEED,\n",
    "    speed_in=TRANSIT_SPEED,\n",
    "    time_per_pot=0.4,\n",
    "    number_of_pots=NUMBER_OF_POTS,\n",
    ")\n",
    "\n",
    "time_total = speed_profile[-1, 0] - speed_profile[0, 0]\n",
    "\n",
    "fig, ax = plt.subplots()\n",
    "plot_speed_profile(speed_profile=speed_profile, ax=ax)"
   ]
  },
  {
   "cell_type": "markdown",
   "metadata": {},
   "source": [
    "### Calculation of energy consumption"
   ]
  },
  {
   "cell_type": "code",
   "execution_count": 90,
   "metadata": {},
   "outputs": [
    {
     "name": "stdout",
     "output_type": "stream",
     "text": [
      "Total useful energy: 141.2 kWh\n",
      "Total time: 8.49 h\n",
      "Peak power: 27.55 kW\n"
     ]
    }
   ],
   "source": [
    "from py_fish.loads import (\n",
    "    calculate_propulsion_power,\n",
    "    calculate_hydraulics_energy,\n",
    "    calculate_dc_energy,\n",
    ")\n",
    "from py_fish.operation import total_consumption_from_profile\n",
    "from py_fish.utils import components_to_profile\n",
    "\n",
    "propulsion_power_profile = components_to_profile(\n",
    "    speed_profile[:, 0],\n",
    "    calculate_propulsion_power(length=LENGTH, beam=BEAM, speeds=speed_profile[:, 1]),\n",
    ")\n",
    "\n",
    "peak_power = calculate_propulsion_power(\n",
    "    length=LENGTH, beam=BEAM, speeds=[TRANSIT_SPEED]\n",
    ")[0]\n",
    "\n",
    "propulsion_energy = total_consumption_from_profile(propulsion_power_profile)\n",
    "hydraulics_energy = calculate_hydraulics_energy(\n",
    "    hours_fishing=time_total\n",
    "    - (DISTANCE_TRANSIT_IN + DISTANCE_TRANSIT_OUT) / TRANSIT_SPEED\n",
    ")\n",
    "dc_energy = calculate_dc_energy(hours_total=time_total)\n",
    "\n",
    "total_energy = propulsion_energy + hydraulics_energy + dc_energy\n",
    "\n",
    "print(f\"Total useful energy: {total_energy:.1f} kWh\")\n",
    "print(f\"Total time: {time_total:.2f} h\")\n",
    "print(f\"Peak power: {peak_power:.2f} kW\")"
   ]
  },
  {
   "cell_type": "code",
   "execution_count": 91,
   "metadata": {},
   "outputs": [
    {
     "name": "stdout",
     "output_type": "stream",
     "text": [
      "Rated battery capacity: 255.4 kWh\n",
      "Rated motor power: 36.73 kW\n"
     ]
    }
   ],
   "source": [
    "MOTOR_EFFICIENCY = 0.96\n",
    "ELECTRONICS_EFFICIENCY = 0.9\n",
    "BATTERY_EFFICIENCY = 0.96\n",
    "\n",
    "BATTERY_TO_SHAFT_EFFICIENCY = (\n",
    "    MOTOR_EFFICIENCY * ELECTRONICS_EFFICIENCY * BATTERY_EFFICIENCY\n",
    ")\n",
    "\n",
    "total_energy_battery = total_energy / BATTERY_TO_SHAFT_EFFICIENCY\n",
    "\n",
    "SEAMARGIN = 1.2\n",
    "total_energy_battery = total_energy_battery * SEAMARGIN\n",
    "\n",
    "DOD = 0.8\n",
    "\n",
    "total_energy_battery = total_energy_battery / DOD\n",
    "print(f\"Rated battery capacity: {total_energy_battery:.1f} kWh\")\n",
    "\n",
    "OPTIMAL_OPERATIONAL_POWER_FRACTION = 0.75\n",
    "rated_motor_power = peak_power / OPTIMAL_OPERATIONAL_POWER_FRACTION\n",
    "print(f\"Rated motor power: {rated_motor_power:.2f} kW\")"
   ]
  }
 ],
 "metadata": {
  "kernelspec": {
   "display_name": "venv",
   "language": "python",
   "name": "python3"
  },
  "language_info": {
   "codemirror_mode": {
    "name": "ipython",
    "version": 3
   },
   "file_extension": ".py",
   "mimetype": "text/x-python",
   "name": "python",
   "nbconvert_exporter": "python",
   "pygments_lexer": "ipython3",
   "version": "3.12.2"
  }
 },
 "nbformat": 4,
 "nbformat_minor": 2
}
